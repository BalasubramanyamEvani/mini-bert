{
  "nbformat": 4,
  "nbformat_minor": 0,
  "metadata": {
    "colab": {
      "provenance": [],
      "collapsed_sections": []
    },
    "kernelspec": {
      "name": "python3",
      "display_name": "Python 3"
    },
    "language_info": {
      "name": "python"
    },
    "accelerator": "GPU"
  },
  "cells": [
    {
      "cell_type": "code",
      "execution_count": 1,
      "metadata": {
        "colab": {
          "base_uri": "https://localhost:8080/"
        },
        "id": "YltIAE2TVlac",
        "outputId": "6decf397-2721-48c0-df5c-689854c41203"
      },
      "outputs": [
        {
          "output_type": "stream",
          "name": "stdout",
          "text": [
            "Thu Sep 29 16:27:07 2022       \n",
            "+-----------------------------------------------------------------------------+\n",
            "| NVIDIA-SMI 460.32.03    Driver Version: 460.32.03    CUDA Version: 11.2     |\n",
            "|-------------------------------+----------------------+----------------------+\n",
            "| GPU  Name        Persistence-M| Bus-Id        Disp.A | Volatile Uncorr. ECC |\n",
            "| Fan  Temp  Perf  Pwr:Usage/Cap|         Memory-Usage | GPU-Util  Compute M. |\n",
            "|                               |                      |               MIG M. |\n",
            "|===============================+======================+======================|\n",
            "|   0  Tesla P100-PCIE...  Off  | 00000000:00:04.0 Off |                    0 |\n",
            "| N/A   37C    P0    27W / 250W |      0MiB / 16280MiB |      0%      Default |\n",
            "|                               |                      |                  N/A |\n",
            "+-------------------------------+----------------------+----------------------+\n",
            "                                                                               \n",
            "+-----------------------------------------------------------------------------+\n",
            "| Processes:                                                                  |\n",
            "|  GPU   GI   CI        PID   Type   Process name                  GPU Memory |\n",
            "|        ID   ID                                                   Usage      |\n",
            "|=============================================================================|\n",
            "|  No running processes found                                                 |\n",
            "+-----------------------------------------------------------------------------+\n"
          ]
        }
      ],
      "source": [
        "!nvidia-smi"
      ]
    },
    {
      "cell_type": "code",
      "source": [
        "!mkdir data"
      ],
      "metadata": {
        "id": "uqTQsYvdVqek"
      },
      "execution_count": 2,
      "outputs": []
    },
    {
      "cell_type": "code",
      "source": [
        "!pip install tqdm==4.58.0\n",
        "!pip install requests==2.25.1\n",
        "!pip install importlib-metadata==3.7.0\n",
        "!pip install filelock==3.0.12\n",
        "!pip install sklearn==0.0\n",
        "!pip install tokenizers==0.10.1\n",
        "!pip install explainaboard_client==0.0.7"
      ],
      "metadata": {
        "colab": {
          "base_uri": "https://localhost:8080/"
        },
        "id": "rmzn6JYxVvbd",
        "outputId": "bc8078cb-4a99-4bb0-c763-1043721a9167"
      },
      "execution_count": 3,
      "outputs": [
        {
          "output_type": "stream",
          "name": "stdout",
          "text": [
            "Looking in indexes: https://pypi.org/simple, https://us-python.pkg.dev/colab-wheels/public/simple/\n",
            "Collecting tqdm==4.58.0\n",
            "  Downloading tqdm-4.58.0-py2.py3-none-any.whl (73 kB)\n",
            "\u001b[K     |████████████████████████████████| 73 kB 1.8 MB/s \n",
            "\u001b[?25hInstalling collected packages: tqdm\n",
            "  Attempting uninstall: tqdm\n",
            "    Found existing installation: tqdm 4.64.1\n",
            "    Uninstalling tqdm-4.64.1:\n",
            "      Successfully uninstalled tqdm-4.64.1\n",
            "Successfully installed tqdm-4.58.0\n",
            "Looking in indexes: https://pypi.org/simple, https://us-python.pkg.dev/colab-wheels/public/simple/\n",
            "Collecting requests==2.25.1\n",
            "  Downloading requests-2.25.1-py2.py3-none-any.whl (61 kB)\n",
            "\u001b[K     |████████████████████████████████| 61 kB 6.4 MB/s \n",
            "\u001b[?25hRequirement already satisfied: certifi>=2017.4.17 in /usr/local/lib/python3.7/dist-packages (from requests==2.25.1) (2022.6.15)\n",
            "Requirement already satisfied: chardet<5,>=3.0.2 in /usr/local/lib/python3.7/dist-packages (from requests==2.25.1) (3.0.4)\n",
            "Requirement already satisfied: idna<3,>=2.5 in /usr/local/lib/python3.7/dist-packages (from requests==2.25.1) (2.10)\n",
            "Requirement already satisfied: urllib3<1.27,>=1.21.1 in /usr/local/lib/python3.7/dist-packages (from requests==2.25.1) (1.24.3)\n",
            "Installing collected packages: requests\n",
            "  Attempting uninstall: requests\n",
            "    Found existing installation: requests 2.23.0\n",
            "    Uninstalling requests-2.23.0:\n",
            "      Successfully uninstalled requests-2.23.0\n",
            "Successfully installed requests-2.25.1\n",
            "Looking in indexes: https://pypi.org/simple, https://us-python.pkg.dev/colab-wheels/public/simple/\n",
            "Collecting importlib-metadata==3.7.0\n",
            "  Downloading importlib_metadata-3.7.0-py3-none-any.whl (11 kB)\n",
            "Requirement already satisfied: typing-extensions>=3.6.4 in /usr/local/lib/python3.7/dist-packages (from importlib-metadata==3.7.0) (4.1.1)\n",
            "Requirement already satisfied: zipp>=0.5 in /usr/local/lib/python3.7/dist-packages (from importlib-metadata==3.7.0) (3.8.1)\n",
            "Installing collected packages: importlib-metadata\n",
            "  Attempting uninstall: importlib-metadata\n",
            "    Found existing installation: importlib-metadata 4.12.0\n",
            "    Uninstalling importlib-metadata-4.12.0:\n",
            "      Successfully uninstalled importlib-metadata-4.12.0\n",
            "\u001b[31mERROR: pip's dependency resolver does not currently take into account all the packages that are installed. This behaviour is the source of the following dependency conflicts.\n",
            "markdown 3.4.1 requires importlib-metadata>=4.4; python_version < \"3.10\", but you have importlib-metadata 3.7.0 which is incompatible.\n",
            "gym 0.25.2 requires importlib-metadata>=4.8.0; python_version < \"3.10\", but you have importlib-metadata 3.7.0 which is incompatible.\u001b[0m\n",
            "Successfully installed importlib-metadata-3.7.0\n",
            "Looking in indexes: https://pypi.org/simple, https://us-python.pkg.dev/colab-wheels/public/simple/\n",
            "Collecting filelock==3.0.12\n",
            "  Downloading filelock-3.0.12-py3-none-any.whl (7.6 kB)\n",
            "Installing collected packages: filelock\n",
            "  Attempting uninstall: filelock\n",
            "    Found existing installation: filelock 3.8.0\n",
            "    Uninstalling filelock-3.8.0:\n",
            "      Successfully uninstalled filelock-3.8.0\n",
            "Successfully installed filelock-3.0.12\n",
            "Looking in indexes: https://pypi.org/simple, https://us-python.pkg.dev/colab-wheels/public/simple/\n",
            "Collecting sklearn==0.0\n",
            "  Downloading sklearn-0.0.tar.gz (1.1 kB)\n",
            "Requirement already satisfied: scikit-learn in /usr/local/lib/python3.7/dist-packages (from sklearn==0.0) (1.0.2)\n",
            "Requirement already satisfied: threadpoolctl>=2.0.0 in /usr/local/lib/python3.7/dist-packages (from scikit-learn->sklearn==0.0) (3.1.0)\n",
            "Requirement already satisfied: numpy>=1.14.6 in /usr/local/lib/python3.7/dist-packages (from scikit-learn->sklearn==0.0) (1.21.6)\n",
            "Requirement already satisfied: scipy>=1.1.0 in /usr/local/lib/python3.7/dist-packages (from scikit-learn->sklearn==0.0) (1.7.3)\n",
            "Requirement already satisfied: joblib>=0.11 in /usr/local/lib/python3.7/dist-packages (from scikit-learn->sklearn==0.0) (1.1.0)\n",
            "Building wheels for collected packages: sklearn\n",
            "  Building wheel for sklearn (setup.py) ... \u001b[?25l\u001b[?25hdone\n",
            "  Created wheel for sklearn: filename=sklearn-0.0-py2.py3-none-any.whl size=1310 sha256=5569ceb0430ca2edd8089fd86006a199c5f77e40b1f1525616811d66dd0f8828\n",
            "  Stored in directory: /root/.cache/pip/wheels/46/ef/c3/157e41f5ee1372d1be90b09f74f82b10e391eaacca8f22d33e\n",
            "Successfully built sklearn\n",
            "Installing collected packages: sklearn\n",
            "Successfully installed sklearn-0.0\n",
            "Looking in indexes: https://pypi.org/simple, https://us-python.pkg.dev/colab-wheels/public/simple/\n",
            "Collecting tokenizers==0.10.1\n",
            "  Downloading tokenizers-0.10.1-cp37-cp37m-manylinux2010_x86_64.whl (3.2 MB)\n",
            "\u001b[K     |████████████████████████████████| 3.2 MB 12.8 MB/s \n",
            "\u001b[?25hInstalling collected packages: tokenizers\n",
            "Successfully installed tokenizers-0.10.1\n",
            "Looking in indexes: https://pypi.org/simple, https://us-python.pkg.dev/colab-wheels/public/simple/\n",
            "Collecting explainaboard_client==0.0.7\n",
            "  Downloading explainaboard_client-0.0.7-py2.py3-none-any.whl (16 kB)\n",
            "Collecting explainaboard-api-client>=0.2.0\n",
            "  Downloading explainaboard_api_client-0.2.4-py2.py3-none-any.whl (164 kB)\n",
            "\u001b[K     |████████████████████████████████| 164 kB 14.1 MB/s \n",
            "\u001b[?25hRequirement already satisfied: tqdm in /usr/local/lib/python3.7/dist-packages (from explainaboard_client==0.0.7) (4.58.0)\n",
            "Requirement already satisfied: python-dateutil in /usr/local/lib/python3.7/dist-packages (from explainaboard-api-client>=0.2.0->explainaboard_client==0.0.7) (2.8.2)\n",
            "Collecting urllib3>=1.25.3\n",
            "  Downloading urllib3-1.26.12-py2.py3-none-any.whl (140 kB)\n",
            "\u001b[K     |████████████████████████████████| 140 kB 62.8 MB/s \n",
            "\u001b[?25hRequirement already satisfied: six>=1.5 in /usr/local/lib/python3.7/dist-packages (from python-dateutil->explainaboard-api-client>=0.2.0->explainaboard_client==0.0.7) (1.15.0)\n",
            "Installing collected packages: urllib3, explainaboard-api-client, explainaboard-client\n",
            "  Attempting uninstall: urllib3\n",
            "    Found existing installation: urllib3 1.24.3\n",
            "    Uninstalling urllib3-1.24.3:\n",
            "      Successfully uninstalled urllib3-1.24.3\n",
            "Successfully installed explainaboard-api-client-0.2.4 explainaboard-client-0.0.7 urllib3-1.26.12\n"
          ]
        }
      ]
    },
    {
      "cell_type": "code",
      "source": [
        "!python optimizer_test.py"
      ],
      "metadata": {
        "colab": {
          "base_uri": "https://localhost:8080/"
        },
        "id": "HjGeh9gJWD8y",
        "outputId": "cb6dcb50-174a-4099-a0a8-ea3aff765cd2"
      },
      "execution_count": 4,
      "outputs": [
        {
          "output_type": "stream",
          "name": "stdout",
          "text": [
            "Optimizer test passed!\n"
          ]
        }
      ]
    },
    {
      "cell_type": "code",
      "source": [
        "!python sanity_check.py"
      ],
      "metadata": {
        "colab": {
          "base_uri": "https://localhost:8080/"
        },
        "id": "_Buujn7OWDlv",
        "outputId": "79d691a7-8f18-43ec-db24-3faca9b06e3f"
      },
      "execution_count": 5,
      "outputs": [
        {
          "output_type": "stream",
          "name": "stdout",
          "text": [
            "Downloading: 100% 570/570 [00:00<00:00, 703kB/s]\n",
            "Downloading: 100% 440M/440M [00:06<00:00, 68.0MB/s]\n",
            "Your BERT implementation is correct!\n"
          ]
        }
      ]
    },
    {
      "cell_type": "code",
      "source": [
        "!python classifier.py --option pretrain --batch_size 64 --lr 1e-3 --train data/sst-train.txt --dev data/sst-dev.txt --test data/sst-test.txt --use_gpu"
      ],
      "metadata": {
        "colab": {
          "base_uri": "https://localhost:8080/"
        },
        "id": "sCwOp-gKV8L1",
        "outputId": "77f55c78-9f42-48b6-8e01-295fe5d3ae5e"
      },
      "execution_count": 6,
      "outputs": [
        {
          "output_type": "stream",
          "name": "stdout",
          "text": [
            "args: {'train': 'data/sst-train.txt', 'dev': 'data/sst-dev.txt', 'test': 'data/sst-test.txt', 'seed': 11711, 'epochs': 10, 'option': 'pretrain', 'use_gpu': True, 'dev_out': 'cfimdb-dev-output.txt', 'test_out': 'cfimdb-test-output.txt', 'batch_size': 64, 'hidden_dropout_prob': 0.3, 'lr': 0.001}\n",
            "Downloading: 100% 232k/232k [00:00<00:00, 902kB/s] \n",
            "load 8544 data from data/sst-train.txt\n",
            "load 1101 data from data/sst-dev.txt\n",
            "save the model to pretrain-10-0.001.pt\n",
            "epoch 0: train loss :: 1.577, train acc :: 0.284, dev acc :: 0.290\n",
            "Traceback (most recent call last):\n",
            "  File \"classifier.py\", line 349, in <module>\n",
            "    train(args)\n",
            "  File \"classifier.py\", line 245, in train\n",
            "    train_loss += loss.item()\n",
            "KeyboardInterrupt\n"
          ]
        }
      ]
    },
    {
      "cell_type": "code",
      "source": [
        "!python classifier.py --option finetune --batch_size 64 --lr 1e-5 --train data/sst-train.txt --dev data/sst-dev.txt --test data/sst-test.txt --use_gpu --dev_out sst-dev-finetune-output.txt --test_out sst-test-finetune-output.txt"
      ],
      "metadata": {
        "colab": {
          "base_uri": "https://localhost:8080/"
        },
        "id": "UiWNZ860WV3Y",
        "outputId": "26978c4c-11d4-4a1c-f93e-8e2175545cd7"
      },
      "execution_count": 15,
      "outputs": [
        {
          "output_type": "stream",
          "name": "stdout",
          "text": [
            "args: {'train': 'data/sst-train.txt', 'dev': 'data/sst-dev.txt', 'test': 'data/sst-test.txt', 'seed': 11711, 'epochs': 10, 'option': 'finetune', 'use_gpu': True, 'dev_out': 'sst-dev-finetune-output.txt', 'test_out': 'sst-test-finetune-output.txt', 'batch_size': 64, 'hidden_dropout_prob': 0.3, 'lr': 1e-05}\n",
            "load 8544 data from data/sst-train.txt\n",
            "load 1101 data from data/sst-dev.txt\n",
            "save the model to finetune-10-1e-05.pt\n",
            "epoch 0: train loss :: 1.448, train acc :: 0.506, dev acc :: 0.471\n",
            "save the model to finetune-10-1e-05.pt\n",
            "epoch 1: train loss :: 1.117, train acc :: 0.580, dev acc :: 0.473\n",
            "save the model to finetune-10-1e-05.pt\n",
            "epoch 2: train loss :: 0.968, train acc :: 0.656, dev acc :: 0.500\n",
            "save the model to finetune-10-1e-05.pt\n",
            "epoch 3: train loss :: 0.859, train acc :: 0.711, dev acc :: 0.500\n",
            "epoch 4: train loss :: 0.738, train acc :: 0.795, dev acc :: 0.500\n",
            "save the model to finetune-10-1e-05.pt\n",
            "epoch 5: train loss :: 0.636, train acc :: 0.866, dev acc :: 0.524\n",
            "epoch 6: train loss :: 0.549, train acc :: 0.869, dev acc :: 0.481\n",
            "epoch 7: train loss :: 0.451, train acc :: 0.934, dev acc :: 0.503\n",
            "epoch 8: train loss :: 0.355, train acc :: 0.938, dev acc :: 0.489\n",
            "epoch 9: train loss :: 0.293, train acc :: 0.964, dev acc :: 0.515\n",
            "load model from finetune-10-1e-05.pt\n",
            "load 1101 data from data/sst-dev.txt\n",
            "load 2210 data from data/sst-test.txt\n",
            "dev acc :: 0.524\n",
            "test acc :: 0.536\n"
          ]
        }
      ]
    },
    {
      "cell_type": "code",
      "source": [
        "!python classifier.py --option finetune --batch_size 8 --lr 1e-5 --train data/cfimdb-train.txt --dev data/cfimdb-dev.txt --test data/cfimdb-test.txt --use_gpu --dev_out cfimdb-dev-output.txt --test_out cfimdb-test-output.txt"
      ],
      "metadata": {
        "colab": {
          "base_uri": "https://localhost:8080/"
        },
        "id": "DTiq2cXBdjqH",
        "outputId": "e120d7ba-2774-4499-c788-fc4f367bec71"
      },
      "execution_count": 16,
      "outputs": [
        {
          "output_type": "stream",
          "name": "stdout",
          "text": [
            "args: {'train': 'data/cfimdb-train.txt', 'dev': 'data/cfimdb-dev.txt', 'test': 'data/cfimdb-test.txt', 'seed': 11711, 'epochs': 10, 'option': 'finetune', 'use_gpu': True, 'dev_out': 'cfimdb-dev-output.txt', 'test_out': 'cfimdb-test-output.txt', 'batch_size': 8, 'hidden_dropout_prob': 0.3, 'lr': 1e-05}\n",
            "load 1707 data from data/cfimdb-train.txt\n",
            "load 245 data from data/cfimdb-dev.txt\n",
            "save the model to finetune-10-1e-05.pt\n",
            "epoch 0: train loss :: 0.404, train acc :: 0.977, dev acc :: 0.935\n",
            "save the model to finetune-10-1e-05.pt\n",
            "epoch 1: train loss :: 0.082, train acc :: 0.995, dev acc :: 0.955\n",
            "epoch 2: train loss :: 0.038, train acc :: 0.996, dev acc :: 0.955\n",
            "epoch 3: train loss :: 0.026, train acc :: 0.996, dev acc :: 0.939\n",
            "save the model to finetune-10-1e-05.pt\n",
            "epoch 4: train loss :: 0.016, train acc :: 0.996, dev acc :: 0.963\n",
            "epoch 5: train loss :: 0.017, train acc :: 0.999, dev acc :: 0.951\n",
            "epoch 6: train loss :: 0.006, train acc :: 0.999, dev acc :: 0.951\n",
            "epoch 7: train loss :: 0.003, train acc :: 1.000, dev acc :: 0.955\n",
            "epoch 8: train loss :: 0.002, train acc :: 1.000, dev acc :: 0.955\n",
            "epoch 9: train loss :: 0.001, train acc :: 1.000, dev acc :: 0.955\n",
            "load model from finetune-10-1e-05.pt\n",
            "load 245 data from data/cfimdb-dev.txt\n",
            "load 488 data from data/cfimdb-test.txt\n",
            "dev acc :: 0.963\n",
            "test acc :: 0.482\n"
          ]
        }
      ]
    },
    {
      "cell_type": "code",
      "source": [
        "!mkdir -p bevani"
      ],
      "metadata": {
        "id": "LFiJSLj5kdPv"
      },
      "execution_count": 17,
      "outputs": []
    },
    {
      "cell_type": "code",
      "source": [
        "!zip -r anlp_bert_hw.zip ."
      ],
      "metadata": {
        "colab": {
          "base_uri": "https://localhost:8080/"
        },
        "id": "WOmqwU8rpcKP",
        "outputId": "7333ee78-1caa-4e6e-99ef-45740051f06b"
      },
      "execution_count": 18,
      "outputs": [
        {
          "output_type": "stream",
          "name": "stdout",
          "text": [
            "  adding: .config/ (stored 0%)\n",
            "  adding: .config/logs/ (stored 0%)\n",
            "  adding: .config/logs/2022.09.26/ (stored 0%)\n",
            "  adding: .config/logs/2022.09.26/13.44.51.979721.log (deflated 53%)\n",
            "  adding: .config/logs/2022.09.26/13.43.53.411838.log (deflated 91%)\n",
            "  adding: .config/logs/2022.09.26/13.45.15.211900.log (deflated 55%)\n",
            "  adding: .config/logs/2022.09.26/13.44.43.065608.log (deflated 86%)\n",
            "  adding: .config/logs/2022.09.26/13.45.16.034312.log (deflated 54%)\n",
            "  adding: .config/logs/2022.09.26/13.44.20.618810.log (deflated 54%)\n",
            "  adding: .config/.last_update_check.json (deflated 22%)\n",
            "  adding: .config/configurations/ (stored 0%)\n",
            "  adding: .config/configurations/config_default (deflated 15%)\n",
            "  adding: .config/.last_opt_in_prompt.yaml (stored 0%)\n",
            "  adding: .config/active_config (stored 0%)\n",
            "  adding: .config/.last_survey_prompt.yaml (stored 0%)\n",
            "  adding: .config/gce (stored 0%)\n",
            "  adding: .config/config_sentinel (stored 0%)\n",
            "  adding: upload_results.py (deflated 64%)\n",
            "  adding: cfimdb-test-output.txt (deflated 62%)\n",
            "  adding: LICENSE (deflated 65%)\n",
            "  adding: data/ (stored 0%)\n",
            "  adding: data/cfimdb-dev.txt (deflated 60%)\n",
            "  adding: data/sst-test.txt (deflated 60%)\n",
            "  adding: data/sst-dev.txt (deflated 60%)\n",
            "  adding: data/cfimdb-test.txt (deflated 61%)\n",
            "  adding: data/sst-train.txt (deflated 61%)\n",
            "  adding: data/cfimdb-train.txt (deflated 61%)\n",
            "  adding: sst-dev-finetune-output.txt (deflated 61%)\n",
            "  adding: utils.py (deflated 66%)\n",
            "  adding: optimizer_test.py (deflated 46%)\n",
            "  adding: optimizer.py (deflated 68%)\n",
            "  adding: sst-test-finetune-output.txt (deflated 61%)\n",
            "  adding: base_bert.py (deflated 69%)\n",
            "  adding: classifier.py (deflated 71%)\n",
            "  adding: tokenizer.py (deflated 80%)\n",
            "  adding: bevani/ (stored 0%)\n",
            "  adding: .ipynb_checkpoints/ (stored 0%)\n",
            "  adding: pretrain-10-0.001.pt (deflated 7%)\n",
            "  adding: bert.py (deflated 74%)\n",
            "  adding: __pycache__/ (stored 0%)\n",
            "  adding: __pycache__/config.cpython-37.pyc (deflated 47%)\n",
            "  adding: __pycache__/bert.cpython-37.pyc (deflated 53%)\n",
            "  adding: __pycache__/tokenizer.cpython-37.pyc (deflated 62%)\n",
            "  adding: __pycache__/base_bert.cpython-37.pyc (deflated 45%)\n",
            "  adding: __pycache__/utils.cpython-37.pyc (deflated 43%)\n",
            "  adding: __pycache__/optimizer.cpython-37.pyc (deflated 38%)\n",
            "  adding: sanity_check.data (deflated 8%)\n",
            "  adding: prepare_submit.py (deflated 63%)\n",
            "  adding: setup.sh (deflated 43%)\n",
            "  adding: cfimdb-dev-output.txt (deflated 62%)\n",
            "  adding: structure.md (deflated 58%)\n",
            "  adding: sanity_check.py (deflated 51%)\n",
            "  adding: finetune-10-1e-05.pt (deflated 14%)\n",
            "  adding: sst-test-output.txt (deflated 62%)\n",
            "  adding: sst-dev-output.txt (deflated 61%)\n",
            "  adding: README.md (deflated 57%)\n",
            "  adding: optimizer_test.npy (deflated 38%)\n",
            "  adding: config.py (deflated 71%)\n",
            "  adding: sample_data/ (stored 0%)\n",
            "  adding: sample_data/anscombe.json (deflated 83%)\n",
            "  adding: sample_data/README.md (deflated 42%)\n",
            "  adding: sample_data/mnist_test.csv (deflated 88%)\n",
            "  adding: sample_data/california_housing_train.csv (deflated 79%)\n",
            "  adding: sample_data/california_housing_test.csv (deflated 76%)\n",
            "  adding: sample_data/mnist_train_small.csv (deflated 88%)\n"
          ]
        }
      ]
    },
    {
      "cell_type": "code",
      "source": [],
      "metadata": {
        "id": "HYkjW0HXppKQ"
      },
      "execution_count": null,
      "outputs": []
    }
  ]
}